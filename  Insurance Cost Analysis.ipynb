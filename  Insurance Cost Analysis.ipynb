{
  "cells": [
    {
      "cell_type": "markdown",
      "metadata": {
        "id": "view-in-github",
        "colab_type": "text"
      },
      "source": [
        "<a href=\"https://colab.research.google.com/github/AlameenWazz/Insurance-cost/blob/main/%20Insurance%20Cost%20Analysis.ipynb\" target=\"_parent\"><img src=\"https://colab.research.google.com/assets/colab-badge.svg\" alt=\"Open In Colab\"/></a>"
      ]
    },
    {
      "cell_type": "markdown",
      "metadata": {
        "id": "9d2d654d-5502-4e66-871f-1f5907c4c53a"
      },
      "source": [
        "<p style=\"text-align:center\">\n",
        "    <a href=\"https://skills.network\" target=\"_blank\">\n",
        "    <img src=\"https://cf-courses-data.s3.us.cloud-object-storage.appdomain.cloud/assets/logos/SN_web_lightmode.png\" width=\"200\" alt=\"Skills Network Logo\">\n",
        "    </a>\n",
        "</p>\n"
      ]
    },
    {
      "cell_type": "markdown",
      "metadata": {
        "id": "8c09024f-5fd1-4df4-a845-ea1a43e18189"
      },
      "source": [
        "# **Practice Project: Insurance Cost Analysis**\n",
        "\n",
        "Estimated time needed: **75** minutes\n",
        "\n",
        "In this project, you have to perform analytics operations on an insurance database that uses the below mentioned parameters.\n",
        "\n",
        "| Parameter |Description| Content type |\n",
        "|---|----|---|\n",
        "|age| Age in years| integer |\n",
        "|gender| Male or Female|integer (1 or 2)|\n",
        "| bmi | Body mass index | float |\n",
        "|no_of_children| Number of children | integer|\n",
        "|smoker| Whether smoker or not | integer (0 or 1)|\n",
        "|region| Which US region - NW, NE, SW, SE | integer (1,2,3 or 4 respectively)|\n",
        "|charges| Annual Insurance charges in USD | float|\n",
        "\n",
        "## Objectives\n",
        "In this project, you will:\n",
        " - Load the data as a `pandas` dataframe\n",
        " - Clean the data, taking care of the blank entries\n",
        " - Run exploratory data analysis (EDA) and identify the attributes that most affect the `charges`\n",
        " - Develop single variable and multi variable Linear Regression models for predicting the `charges`\n",
        " - Use Ridge regression to refine the performance of Linear regression models.\n",
        "\n"
      ]
    },
    {
      "cell_type": "markdown",
      "metadata": {
        "id": "e2a576e8-95fc-44f8-a4da-3452fab03ef6"
      },
      "source": [
        "# Setup\n"
      ]
    },
    {
      "cell_type": "markdown",
      "metadata": {
        "id": "6c3c57a8-9e38-4a98-b373-6ea268a0e758"
      },
      "source": [
        "For this lab, we will be using the following libraries:\n",
        "\n",
        "*   [`pandas`](https://pandas.pydata.org/?utm_medium=Exinfluencer&utm_source=Exinfluencer&utm_content=000026UJ&utm_term=10006555&utm_id=NA-SkillsNetwork-Channel-SkillsNetworkCoursesIBMML0187ENSkillsNetwork31430127-2021-01-01) for managing the data.\n",
        "*   [`numpy`](https://numpy.org/?utm_medium=Exinfluencer&utm_source=Exinfluencer&utm_content=000026UJ&utm_term=10006555&utm_id=NA-SkillsNetwork-Channel-SkillsNetworkCoursesIBMML0187ENSkillsNetwork31430127-2021-01-01) for mathematical operations.\n",
        "*   [`sklearn`](https://scikit-learn.org/stable/?utm_medium=Exinfluencer&utm_source=Exinfluencer&utm_content=000026UJ&utm_term=10006555&utm_id=NA-SkillsNetwork-Channel-SkillsNetworkCoursesIBMML0187ENSkillsNetwork31430127-2021-01-01) for machine learning and machine-learning-pipeline related functions.\n",
        "*   [`seaborn`](https://seaborn.pydata.org/?utm_medium=Exinfluencer&utm_source=Exinfluencer&utm_content=000026UJ&utm_term=10006555&utm_id=NA-SkillsNetwork-Channel-SkillsNetworkCoursesIBMML0187ENSkillsNetwork31430127-2021-01-01) for visualizing the data.\n",
        "*   [`matplotlib`](https://matplotlib.org/?utm_medium=Exinfluencer&utm_source=Exinfluencer&utm_content=000026UJ&utm_term=10006555&utm_id=NA-SkillsNetwork-Channel-SkillsNetworkCoursesIBMML0187ENSkillsNetwork31430127-2021-01-01) for additional plotting tools.\n"
      ]
    },
    {
      "cell_type": "markdown",
      "metadata": {
        "id": "a958065c-70f2-4fc9-b44d-c0a41617f244"
      },
      "source": [
        "The following required libraries are __not__ pre-installed in the Skills Network Labs environment. __You will need to run the following cell__ to install them:\n"
      ]
    },
    {
      "cell_type": "code",
      "metadata": {
        "id": "621f6a1f-1045-4152-9db7-0fc67434b2da",
        "colab": {
          "base_uri": "https://localhost:8080/"
        },
        "outputId": "0975d6e7-e0eb-4dbe-a12a-2ad8ec75c017"
      },
      "outputs": [
        {
          "output_type": "stream",
          "name": "stdout",
          "text": [
            "Requirement already satisfied: seaborn in /usr/local/lib/python3.10/dist-packages (0.13.1)\n",
            "Requirement already satisfied: numpy!=1.24.0,>=1.20 in /usr/local/lib/python3.10/dist-packages (from seaborn) (1.23.5)\n",
            "Requirement already satisfied: pandas>=1.2 in /usr/local/lib/python3.10/dist-packages (from seaborn) (1.5.3)\n",
            "Requirement already satisfied: matplotlib!=3.6.1,>=3.4 in /usr/local/lib/python3.10/dist-packages (from seaborn) (3.7.1)\n",
            "Requirement already satisfied: contourpy>=1.0.1 in /usr/local/lib/python3.10/dist-packages (from matplotlib!=3.6.1,>=3.4->seaborn) (1.2.0)\n",
            "Requirement already satisfied: cycler>=0.10 in /usr/local/lib/python3.10/dist-packages (from matplotlib!=3.6.1,>=3.4->seaborn) (0.12.1)\n",
            "Requirement already satisfied: fonttools>=4.22.0 in /usr/local/lib/python3.10/dist-packages (from matplotlib!=3.6.1,>=3.4->seaborn) (4.47.2)\n",
            "Requirement already satisfied: kiwisolver>=1.0.1 in /usr/local/lib/python3.10/dist-packages (from matplotlib!=3.6.1,>=3.4->seaborn) (1.4.5)\n",
            "Requirement already satisfied: packaging>=20.0 in /usr/local/lib/python3.10/dist-packages (from matplotlib!=3.6.1,>=3.4->seaborn) (23.2)\n",
            "Requirement already satisfied: pillow>=6.2.0 in /usr/local/lib/python3.10/dist-packages (from matplotlib!=3.6.1,>=3.4->seaborn) (9.4.0)\n",
            "Requirement already satisfied: pyparsing>=2.3.1 in /usr/local/lib/python3.10/dist-packages (from matplotlib!=3.6.1,>=3.4->seaborn) (3.1.1)\n",
            "Requirement already satisfied: python-dateutil>=2.7 in /usr/local/lib/python3.10/dist-packages (from matplotlib!=3.6.1,>=3.4->seaborn) (2.8.2)\n",
            "Requirement already satisfied: pytz>=2020.1 in /usr/local/lib/python3.10/dist-packages (from pandas>=1.2->seaborn) (2023.3.post1)\n",
            "Requirement already satisfied: six>=1.5 in /usr/local/lib/python3.10/dist-packages (from python-dateutil>=2.7->matplotlib!=3.6.1,>=3.4->seaborn) (1.16.0)\n"
          ]
        }
      ],
      "source": [
        "%pip install seaborn"
      ],
      "execution_count": 1
    },
    {
      "cell_type": "markdown",
      "metadata": {
        "id": "36868f00-7a59-4124-8527-e5260c56071a"
      },
      "source": [
        "### Importing Required Libraries\n",
        "\n",
        "_We recommend you import all required libraries in one place (here):_\n"
      ]
    },
    {
      "cell_type": "code",
      "metadata": {
        "id": "a9f3be1b-f82d-4e08-b312-fdeacb6a7a95"
      },
      "outputs": [],
      "source": [
        "import pandas as pd\n",
        "import matplotlib.pyplot as plt\n",
        "import numpy as np\n",
        "import seaborn as sns\n",
        "from sklearn.pipeline import Pipeline\n",
        "from sklearn.preprocessing import StandardScaler, PolynomialFeatures\n",
        "from sklearn.linear_model import LinearRegression, Ridge\n",
        "from sklearn.metrics import mean_squared_error, r2_score\n",
        "from sklearn.model_selection import cross_val_score, train_test_split"
      ],
      "execution_count": 2
    },
    {
      "cell_type": "markdown",
      "metadata": {
        "id": "dcdfb30f-39cb-45e0-b406-47843d6088c7"
      },
      "source": [
        "<details>\n",
        "    <summary>Click here for Solution</summary>\n",
        "\n",
        "```python\n",
        "import pandas as pd\n",
        "import matplotlib.pyplot as plt\n",
        "import numpy as np\n",
        "import seaborn as sns\n",
        "from sklearn.pipeline import Pipeline\n",
        "from sklearn.preprocessing import StandardScaler, PolynomialFeatures\n",
        "from sklearn.linear_model import LinearRegression, Ridge\n",
        "from sklearn.metrics import mean_squared_error, r2_score\n",
        "from sklearn.model_selection import cross_val_score, train_test_split\n",
        "```\n",
        "\n",
        "</details>\n"
      ]
    },
    {
      "cell_type": "markdown",
      "metadata": {
        "id": "981d8188-8291-4d15-bf99-526c2fd2a491"
      },
      "source": [
        "### Download the dataset to this lab environment\n",
        "\n",
        "Run the cell below to load the dataset to this lab environment.\n"
      ]
    },
    {
      "cell_type": "code",
      "metadata": {
        "id": "271af0ff-0345-4af3-b764-285178882646"
      },
      "outputs": [],
      "source": [
        "path = 'https://cf-courses-data.s3.us.cloud-object-storage.appdomain.cloud/IBMDeveloperSkillsNetwork-DA0101EN-Coursera/medical_insurance_dataset.csv'"
      ],
      "execution_count": 3
    },
    {
      "cell_type": "markdown",
      "metadata": {
        "id": "cd761e9b-e54e-4c0c-892f-04a272e4ae2c"
      },
      "source": [
        "# Task 1 : Import the dataset\n",
        "\n",
        "Import the dataset into a `pandas` dataframe. Note that there are currently no headers in the CSV file.\n",
        "\n",
        "Print the first 10 rows of the dataframe to confirm successful loading.\n"
      ]
    },
    {
      "cell_type": "code",
      "metadata": {
        "id": "3f256a00-bece-4048-af93-e2f55abe19a8",
        "colab": {
          "base_uri": "https://localhost:8080/"
        },
        "outputId": "307a99ca-b548-436b-d6fe-23bd6230570d"
      },
      "outputs": [
        {
          "output_type": "stream",
          "name": "stdout",
          "text": [
            "    0  1       2  3  4  5            6\n",
            "0  19  1  27.900  0  1  3  16884.92400\n",
            "1  18  2  33.770  1  0  4   1725.55230\n",
            "2  28  2  33.000  3  0  4   4449.46200\n",
            "3  33  2  22.705  0  0  1  21984.47061\n",
            "4  32  2  28.880  0  0  1   3866.85520\n",
            "5  31  1  25.740  0  ?  4   3756.62160\n",
            "6  46  1  33.440  1  0  4   8240.58960\n",
            "7  37  1  27.740  3  0  1   7281.50560\n",
            "8  37  2  29.830  2  0  2   6406.41070\n",
            "9  60  1  25.840  0  0  1  28923.13692\n"
          ]
        }
      ],
      "source": [
        "df = pd.read_csv(path, header=None)\n",
        "print(df.head(10))\n"
      ],
      "execution_count": 4
    },
    {
      "cell_type": "markdown",
      "metadata": {
        "id": "397d549b-d998-4b47-bf49-14f0ed67f5c1"
      },
      "source": [
        "Add the headers to the dataframe, as mentioned in the project scenario.\n"
      ]
    },
    {
      "cell_type": "code",
      "metadata": {
        "id": "7b55cb26-5a6d-4d42-b370-792b81bd50dc"
      },
      "outputs": [],
      "source": [
        "headers = [\"age\", \"gender\", \"bmi\", \"no_of_children\", \"smoker\", \"region\", \"charges\"]\n",
        "df.columns = headers"
      ],
      "execution_count": 5
    },
    {
      "cell_type": "markdown",
      "metadata": {
        "id": "34ef47c6-93e1-4bfa-8c0d-816733587559"
      },
      "source": [
        "Now, replace the '?' entries with 'NaN' values.\n"
      ]
    },
    {
      "cell_type": "code",
      "metadata": {
        "id": "b93d3eb8-1954-4203-a001-467363c07e48"
      },
      "outputs": [],
      "source": [
        "df.replace('?', np.nan, inplace = True)\n"
      ],
      "execution_count": 6
    },
    {
      "cell_type": "markdown",
      "metadata": {
        "id": "9ba9548b-3bd3-4310-8b69-5591deba8928"
      },
      "source": [
        "# Task 2 : Data Wrangling\n"
      ]
    },
    {
      "cell_type": "markdown",
      "metadata": {
        "id": "1a307170-dfae-4bd9-8668-ab759b475958"
      },
      "source": [
        "Use `dataframe.info()` to identify the columns that have some 'Null' (or NaN) information.\n"
      ]
    },
    {
      "cell_type": "code",
      "metadata": {
        "id": "4e324742-9106-464f-b689-c5af987642ab",
        "colab": {
          "base_uri": "https://localhost:8080/"
        },
        "outputId": "4f259e6a-1230-4d11-d336-87cf78fde0e2"
      },
      "outputs": [
        {
          "output_type": "stream",
          "name": "stdout",
          "text": [
            "<class 'pandas.core.frame.DataFrame'>\n",
            "RangeIndex: 2772 entries, 0 to 2771\n",
            "Data columns (total 7 columns):\n",
            " #   Column          Non-Null Count  Dtype  \n",
            "---  ------          --------------  -----  \n",
            " 0   age             2768 non-null   object \n",
            " 1   gender          2772 non-null   int64  \n",
            " 2   bmi             2772 non-null   float64\n",
            " 3   no_of_children  2772 non-null   int64  \n",
            " 4   smoker          2765 non-null   object \n",
            " 5   region          2772 non-null   int64  \n",
            " 6   charges         2772 non-null   float64\n",
            "dtypes: float64(2), int64(3), object(2)\n",
            "memory usage: 151.7+ KB\n",
            "None\n"
          ]
        }
      ],
      "source": [
        "print(df.info())"
      ],
      "execution_count": 7
    },
    {
      "cell_type": "markdown",
      "metadata": {
        "id": "2f7ca9fd-8bef-4f8b-9053-a80602878bcf"
      },
      "source": [
        "Handle missing data:\n",
        "\n",
        "- For continuous attributes (e.g., age), replace missing values with the mean.\n",
        "- For categorical attributes (e.g., smoker), replace missing values with the most frequent value.\n",
        "- Update the data types of the respective columns.\n",
        "- Verify the update using `df.info()`.\n"
      ]
    },
    {
      "cell_type": "code",
      "metadata": {
        "id": "0cd45889-201d-45cb-a4ab-921423676130",
        "colab": {
          "base_uri": "https://localhost:8080/"
        },
        "outputId": "edced0e0-9e50-4c0e-e074-3f450991ccd5"
      },
      "outputs": [
        {
          "output_type": "stream",
          "name": "stdout",
          "text": [
            "<class 'pandas.core.frame.DataFrame'>\n",
            "RangeIndex: 2772 entries, 0 to 2771\n",
            "Data columns (total 7 columns):\n",
            " #   Column          Non-Null Count  Dtype  \n",
            "---  ------          --------------  -----  \n",
            " 0   age             2772 non-null   int64  \n",
            " 1   gender          2772 non-null   int64  \n",
            " 2   bmi             2772 non-null   float64\n",
            " 3   no_of_children  2772 non-null   int64  \n",
            " 4   smoker          2772 non-null   int64  \n",
            " 5   region          2772 non-null   int64  \n",
            " 6   charges         2772 non-null   float64\n",
            "dtypes: float64(2), int64(5)\n",
            "memory usage: 151.7 KB\n",
            "None\n"
          ]
        }
      ],
      "source": [
        "# smoker is a categorical attribute, replace with most frequent entry\n",
        "is_smoker = df['smoker'].value_counts().idxmax()\n",
        "df[\"smoker\"].replace(np.nan, is_smoker, inplace=True)\n",
        "\n",
        "# age is a continuous variable, replace with mean age\n",
        "mean_age = df['age'].astype('float').mean(axis=0)\n",
        "df[\"age\"].replace(np.nan, mean_age, inplace=True)\n",
        "\n",
        "# Update data types\n",
        "df[[\"age\",\"smoker\"]] = df[[\"age\",\"smoker\"]].astype(\"int\")\n",
        "\n",
        "print(df.info())"
      ],
      "execution_count": 8
    },
    {
      "cell_type": "markdown",
      "metadata": {
        "id": "a6c89bca-c7d2-407d-8874-d1e1cfce1216"
      },
      "source": [
        "Also note, that the `charges` column has values which are more than 2 decimal places long. Update the `charges` column such that all values are rounded to nearest 2 decimal places. Verify conversion by printing the first 5 values of the updated dataframe.\n"
      ]
    },
    {
      "cell_type": "code",
      "metadata": {
        "id": "aecbd133-94f1-418f-8050-873deb97e285",
        "colab": {
          "base_uri": "https://localhost:8080/"
        },
        "outputId": "02586a06-a2db-4c2d-c79a-7e13b45a107d"
      },
      "outputs": [
        {
          "output_type": "stream",
          "name": "stdout",
          "text": [
            "   age  gender     bmi  no_of_children  smoker  region   charges\n",
            "0   19       1  27.900               0       1       3  16884.92\n",
            "1   18       2  33.770               1       0       4   1725.55\n",
            "2   28       2  33.000               3       0       4   4449.46\n",
            "3   33       2  22.705               0       0       1  21984.47\n",
            "4   32       2  28.880               0       0       1   3866.86\n"
          ]
        }
      ],
      "source": [
        "df[[\"charges\"]] = np.round(df[[\"charges\"]],2)\n",
        "print(df.head())"
      ],
      "execution_count": 9
    },
    {
      "cell_type": "markdown",
      "metadata": {
        "id": "42b99733-2d6e-44a8-8128-fa21010f9ff3"
      },
      "source": [
        "# Task 3 : Exploratory Data Analysis (EDA)\n",
        "\n",
        "Implement the regression plot for `charges` with respect to `bmi`.\n"
      ]
    },
    {
      "cell_type": "code",
      "metadata": {
        "id": "7a68dcb2-2c34-4698-abe3-0376f2bb3489",
        "colab": {
          "base_uri": "https://localhost:8080/",
          "height": 467
        },
        "outputId": "f3808aa0-5b25-462a-a6b6-8348e3b1c865"
      },
      "outputs": [
        {
          "output_type": "execute_result",
          "data": {
            "text/plain": [
              "(0.0, 66902.85800000001)"
            ]
          },
          "metadata": {},
          "execution_count": 11
        },
        {
          "output_type": "display_data",
          "data": {
            "text/plain": [
              "<Figure size 640x480 with 1 Axes>"
            ],
            "image/png": "[encoded data removed]"
          },
          "metadata": {}
        }
      ],
      "source": [
        "sns.regplot(x=\"bmi\", y=\"charges\", data=df, line_kws={\"color\": \"red\"})\n",
        "plt.ylim(0,)"
      ],
      "execution_count": 11
    },
    {
      "cell_type": "markdown",
      "metadata": {
        "id": "5a7d9451-d246-45e7-92c9-e65481c093d0"
      },
      "source": [
        "Implement the box plot for `charges` with respect to `smoker`.\n"
      ]
    },
    {
      "cell_type": "code",
      "metadata": {
        "id": "b425ab42-04ef-4747-a954-8c7dc1939dc0",
        "colab": {
          "base_uri": "https://localhost:8080/",
          "height": 467
        },
        "outputId": "ac757f1d-8dbc-478e-ff0c-564a0ebee2cc"
      },
      "outputs": [
        {
          "output_type": "execute_result",
          "data": {
            "text/plain": [
              "<Axes: xlabel='smoker', ylabel='charges'>"
            ]
          },
          "metadata": {},
          "execution_count": 12
        },
        {
          "output_type": "display_data",
          "data": {
            "text/plain": [
              "<Figure size 640x480 with 1 Axes>"
            ],
            "image/png": "[encoded data removed]"
          },
          "metadata": {}
        }
      ],
      "source": [
        "sns.boxplot(x=\"smoker\", y=\"charges\", data=df)"
      ],
      "execution_count": 12
    },
    {
      "cell_type": "markdown",
      "metadata": {
        "id": "681e06b7-f162-447b-843e-d256cfcb3fa2"
      },
      "source": [
        "Print the correlation matrix for the dataset.\n"
      ]
    },
    {
      "cell_type": "code",
      "metadata": {
        "id": "e74e3f04-3063-4ab7-aedc-24f822262e26",
        "colab": {
          "base_uri": "https://localhost:8080/"
        },
        "outputId": "1227ca3e-1904-4ef6-e17f-3e2570a14db5"
      },
      "outputs": [
        {
          "output_type": "stream",
          "name": "stdout",
          "text": [
            "                     age    gender       bmi  no_of_children    smoker  \\\n",
            "age             1.000000 -0.026046  0.113048        0.037574 -0.023286   \n",
            "gender         -0.026046  1.000000  0.042924        0.016020  0.082326   \n",
            "bmi             0.113048  0.042924  1.000000       -0.001492  0.011489   \n",
            "no_of_children  0.037574  0.016020 -0.001492        1.000000  0.006362   \n",
            "smoker         -0.023286  0.082326  0.011489        0.006362  1.000000   \n",
            "region         -0.007167  0.022213  0.271119       -0.025717  0.054077   \n",
            "charges         0.298624  0.062837  0.199846        0.066442  0.788783   \n",
            "\n",
            "                  region   charges  \n",
            "age            -0.007167  0.298624  \n",
            "gender          0.022213  0.062837  \n",
            "bmi             0.271119  0.199846  \n",
            "no_of_children -0.025717  0.066442  \n",
            "smoker          0.054077  0.788783  \n",
            "region          1.000000  0.054058  \n",
            "charges         0.054058  1.000000  \n"
          ]
        }
      ],
      "source": [
        "print(df.corr())\n"
      ],
      "execution_count": 13
    },
    {
      "cell_type": "markdown",
      "metadata": {
        "id": "b5a03c3d-ef46-4a38-928e-f53e5e694840"
      },
      "source": [
        "# Task 4 : Model Development\n",
        "\n",
        "Fit a linear regression model that may be used to predict the `charges` value, just by using the `smoker` attribute of the dataset. Print the $ R^2 $ score of this model.\n"
      ]
    },
    {
      "cell_type": "code",
      "metadata": {
        "id": "ad126824-7f90-404b-b063-0be76fab5298",
        "colab": {
          "base_uri": "https://localhost:8080/"
        },
        "outputId": "53b81e01-ac56-46d0-bf54-25b33298a83e"
      },
      "outputs": [
        {
          "output_type": "stream",
          "name": "stdout",
          "text": [
            "0.6221791733924185\n"
          ]
        }
      ],
      "source": [
        "X = df[['smoker']]\n",
        "Y = df['charges']\n",
        "lm = LinearRegression()\n",
        "lm.fit(X,Y)\n",
        "print(lm.score(X, Y))"
      ],
      "execution_count": 14
    },
    {
      "cell_type": "markdown",
      "metadata": {
        "id": "2f196d1b-62f0-4297-8923-9f20e0f121a1"
      },
      "source": [
        "Fit a linear regression model that may be used to predict the `charges` value, just by using all other attributes of the dataset. Print the $ R^2 $ score of this model. You should see an improvement in the performance.\n"
      ]
    },
    {
      "cell_type": "code",
      "metadata": {
        "id": "f9561829-912c-456b-9b6e-86315424ea2c",
        "colab": {
          "base_uri": "https://localhost:8080/"
        },
        "outputId": "58276fec-7b35-455a-be15-fa5439b10a7b"
      },
      "outputs": [
        {
          "output_type": "stream",
          "name": "stdout",
          "text": [
            "0.7504083820289634\n"
          ]
        }
      ],
      "source": [
        "# definition of Y and lm remain same as used in last cell.\n",
        "Z = df[[\"age\", \"gender\", \"bmi\", \"no_of_children\", \"smoker\", \"region\"]]\n",
        "lm.fit(Z,Y)\n",
        "print(lm.score(Z, Y))"
      ],
      "execution_count": 15
    },
    {
      "cell_type": "markdown",
      "metadata": {
        "id": "1776a321-581a-4332-a5e5-dfd7b7956288"
      },
      "source": [
        "Create a training pipeline that uses `StandardScaler()`, `PolynomialFeatures()` and `LinearRegression()` to create a model that can predict the `charges` value using all the other attributes of the dataset. There should be even further improvement in the performance.\n"
      ]
    },
    {
      "cell_type": "code",
      "metadata": {
        "id": "6808a34e-c191-4f7f-9e26-0a6fe36a4a23",
        "colab": {
          "base_uri": "https://localhost:8080/"
        },
        "outputId": "fb082e76-a378-404a-d90c-a9a6b5be34c8"
      },
      "outputs": [
        {
          "output_type": "stream",
          "name": "stdout",
          "text": [
            "0.8452541227959774\n"
          ]
        }
      ],
      "source": [
        "# Y and Z use the same values as defined in previous cells\n",
        "Input=[('scale',StandardScaler()), ('polynomial', PolynomialFeatures(include_bias=False)), ('model', LinearRegression())]\n",
        "pipe=Pipeline(Input)\n",
        "Z = Z.astype(float)\n",
        "pipe.fit(Z,Y)\n",
        "ypipe=pipe.predict(Z)\n",
        "print(r2_score(Y,ypipe))"
      ],
      "execution_count": 16
    },
    {
      "cell_type": "markdown",
      "metadata": {
        "id": "5a16a947-85ae-4466-ac49-a2dcdb234481"
      },
      "source": [
        "# Task 5 : Model Refinement\n",
        "\n",
        "Split the data into training and testing subsets, assuming that 20% of the data will be reserved for testing.\n"
      ]
    },
    {
      "cell_type": "code",
      "metadata": {
        "id": "a12e8460-01de-4aae-beb9-53abe4c486fd"
      },
      "outputs": [],
      "source": [
        "# Z and Y hold same values as in previous cells\n",
        "x_train, x_test, y_train, y_test = train_test_split(Z, Y, test_size=0.2, random_state=1)"
      ],
      "execution_count": 17
    },
    {
      "cell_type": "markdown",
      "metadata": {
        "id": "06c8b22d-11b0-41e7-b987-1663e4c73821"
      },
      "source": [
        "Initialize a Ridge regressor that used hyperparameter $ \\alpha = 0.1 $. Fit the model using training data data subset. Print the $ R^2 $ score for the testing data.\n"
      ]
    },
    {
      "cell_type": "code",
      "metadata": {
        "id": "1c650a5d-cce5-4f4c-a7eb-c67b1cbe502b",
        "colab": {
          "base_uri": "https://localhost:8080/"
        },
        "outputId": "66c0575c-11ca-4fc3-c9ac-eee9d0d775e9"
      },
      "outputs": [
        {
          "output_type": "stream",
          "name": "stdout",
          "text": [
            "0.6760807731582404\n"
          ]
        }
      ],
      "source": [
        "# x_train, x_test, y_train, y_test hold same values as in previous cells\n",
        "RidgeModel=Ridge(alpha=0.1)\n",
        "RidgeModel.fit(x_train, y_train)\n",
        "yhat = RidgeModel.predict(x_test)\n",
        "print(r2_score(y_test,yhat))"
      ],
      "execution_count": 18
    },
    {
      "cell_type": "markdown",
      "metadata": {
        "id": "34aeac81-890b-4895-8dad-c4507ad519ac"
      },
      "source": [
        "Apply polynomial transformation to the training parameters with degree=2. Use this transformed feature set to fit the same regression model, as above, using the training subset. Print the $ R^2 $ score for the testing subset.\n"
      ]
    },
    {
      "cell_type": "code",
      "metadata": {
        "id": "51a28cf2-633d-48a8-9796-6d1af5144bb7",
        "colab": {
          "base_uri": "https://localhost:8080/"
        },
        "outputId": "9ca417f9-b23a-433d-b242-d2dcf3c2f70f"
      },
      "outputs": [
        {
          "output_type": "stream",
          "name": "stdout",
          "text": [
            "0.7835631107608152\n"
          ]
        }
      ],
      "source": [
        "# x_train, x_test, y_train, y_test hold same values as in previous cells\n",
        "pr = PolynomialFeatures(degree=2)\n",
        "x_train_pr = pr.fit_transform(x_train)\n",
        "x_test_pr = pr.fit_transform(x_test)\n",
        "RidgeModel.fit(x_train_pr, y_train)\n",
        "y_hat = RidgeModel.predict(x_test_pr)\n",
        "print(r2_score(y_test,y_hat))"
      ],
      "execution_count": 19
    },
    {
      "cell_type": "markdown",
      "metadata": {
        "id": "420e328b-3344-443e-8fdc-1582fbde160d"
      },
      "source": [
        "# Congratulations! You have completed this project\n"
      ]
    },
    {
      "cell_type": "markdown",
      "metadata": {
        "id": "dbb62135-f9c8-4d37-8633-464e5371c5b6"
      },
      "source": [
        "## Authors\n"
      ]
    },
    {
      "cell_type": "markdown",
      "metadata": {
        "id": "83c8a3e8-a124-4a88-bdde-165b12f285c8"
      },
      "source": [
        "[Abhishek Gagneja](https://www.coursera.org/instructor/~129186572)\n",
        "\n",
        "[Vicky Kuo](https://author.skills.network/instructors/vicky_kuo)\n"
      ]
    },
    {
      "cell_type": "markdown",
      "metadata": {
        "id": "6cec297a-d46b-4737-952f-ca033cf45bfa"
      },
      "source": [
        "## Change Log\n"
      ]
    },
    {
      "cell_type": "markdown",
      "metadata": {
        "id": "47195a46-5c29-435c-ad70-2a0e93feae96"
      },
      "source": [
        "|Date (YYYY-MM-DD)|Version|Changed By|Change Description|\n",
        "|-|-|-|-|\n",
        "|2023-09-16|0.1|Abhishek Gagneja|Initial Version Created|\n",
        "|2023-09-19|0.2|Vicky Kuo|Reviewed and Revised|\n"
      ]
    },
    {
      "cell_type": "markdown",
      "metadata": {
        "id": "102e52f2-5ce6-4a60-87e8-b2d7ed41aee3"
      },
      "source": [
        "<h3> Copyright © 2023 IBM Corporation. All rights reserved. </h3>\n"
      ]
    }
  ],
  "metadata": {
    "kernelspec": {
      "display_name": "Python",
      "language": "python",
      "name": "conda-env-python-py"
    },
    "language_info": {
      "name": ""
    },
    "colab": {
      "provenance": [],
      "include_colab_link": true
    }
  },
  "nbformat": 4,
  "nbformat_minor": 0
}